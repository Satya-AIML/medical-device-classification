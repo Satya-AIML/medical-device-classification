{
 "cells": [
  {
   "cell_type": "code",
   "execution_count": null,
   "metadata": {
    "_cell_guid": "84a92b92-71f3-4a3f-a210-5a3198d08240",
    "_uuid": "8b1d8db1-09a2-48e9-96fb-02468d09319b",
    "collapsed": false,
    "execution": {
     "iopub.execute_input": "2024-10-16T04:38:25.746517Z",
     "iopub.status.busy": "2024-10-16T04:38:25.746005Z",
     "iopub.status.idle": "2024-10-16T04:38:43.450915Z",
     "shell.execute_reply": "2024-10-16T04:38:43.449026Z",
     "shell.execute_reply.started": "2024-10-16T04:38:25.746469Z"
    },
    "jupyter": {
     "outputs_hidden": false
    }
   },
   "outputs": [],
   "source": [
    "!pip install transformers torch pinecone-client pandas scikit-learn"
   ]
  },
  {
   "cell_type": "code",
   "execution_count": null,
   "metadata": {
    "_cell_guid": "b471dea7-ad5b-4690-b773-96e188d4a2c1",
    "_uuid": "a9abf319-f8f6-4018-91db-e59140c0585d",
    "collapsed": false,
    "execution": {
     "iopub.execute_input": "2024-10-16T04:38:43.455824Z",
     "iopub.status.busy": "2024-10-16T04:38:43.455185Z",
     "iopub.status.idle": "2024-10-16T04:38:51.129386Z",
     "shell.execute_reply": "2024-10-16T04:38:51.127950Z",
     "shell.execute_reply.started": "2024-10-16T04:38:43.455746Z"
    },
    "jupyter": {
     "outputs_hidden": false
    }
   },
   "outputs": [],
   "source": [
    "# Required imports\n",
    "import pandas as pd\n",
    "import torch\n",
    "from transformers import AutoTokenizer, AutoModel\n",
    "from sklearn.model_selection import train_test_split\n",
    "from sklearn.preprocessing import LabelEncoder\n",
    "import pinecone\n",
    "from collections import Counter\n",
    "import re\n",
    "import nltk\n",
    "from nltk.corpus import stopwords\n",
    "from bs4 import BeautifulSoup\n",
    "import matplotlib.pyplot as plt\n",
    "import numpy as np"
   ]
  },
  {
   "cell_type": "code",
   "execution_count": null,
   "metadata": {
    "_cell_guid": "53f7187f-12a0-43c9-914d-eab9905c98a7",
    "_uuid": "fbc1c884-59e6-4d5d-b3bb-536e40aa4765",
    "collapsed": false,
    "execution": {
     "iopub.execute_input": "2024-10-16T04:38:51.131879Z",
     "iopub.status.busy": "2024-10-16T04:38:51.131227Z",
     "iopub.status.idle": "2024-10-16T04:38:51.249664Z",
     "shell.execute_reply": "2024-10-16T04:38:51.247527Z",
     "shell.execute_reply.started": "2024-10-16T04:38:51.131831Z"
    },
    "jupyter": {
     "outputs_hidden": false
    }
   },
   "outputs": [],
   "source": [
    "# Download NLTK stopwords\n",
    "nltk.download('stopwords')\n",
    "STOPWORDS = set(stopwords.words('english'))\n",
    "\n",
    "# Preprocessing functions\n",
    "REPLACE_BY_SPACE_RE = re.compile('[/(){}\\[\\]\\|@,;]')\n",
    "BAD_SYMBOLS_RE = re.compile('[^0-9a-z #+_]')"
   ]
  },
  {
   "cell_type": "code",
   "execution_count": null,
   "metadata": {
    "_cell_guid": "130fea1a-266b-4d00-a3f2-d095e0172617",
    "_uuid": "5d4095f5-178a-4b72-a94b-23e67db1b27a",
    "collapsed": false,
    "execution": {
     "iopub.execute_input": "2024-10-16T04:38:51.255283Z",
     "iopub.status.busy": "2024-10-16T04:38:51.254332Z",
     "iopub.status.idle": "2024-10-16T04:38:51.270294Z",
     "shell.execute_reply": "2024-10-16T04:38:51.268821Z",
     "shell.execute_reply.started": "2024-10-16T04:38:51.255208Z"
    },
    "jupyter": {
     "outputs_hidden": false
    }
   },
   "outputs": [],
   "source": [
    "def clean_text(text):\n",
    "    \"\"\"Cleans the input text by removing special characters and stopwords.\"\"\"\n",
    "    if isinstance(text, str):  # Proceed only if the text is a string\n",
    "        text = text.lower()  # Lowercase the text\n",
    "        text = REPLACE_BY_SPACE_RE.sub(' ', text)  # Replace unwanted symbols with space\n",
    "        text = BAD_SYMBOLS_RE.sub('', text)  # Remove unwanted symbols\n",
    "    return text  # Return the cleaned text (or the original if not a string)"
   ]
  },
  {
   "cell_type": "code",
   "execution_count": null,
   "metadata": {
    "_cell_guid": "1d8a7ca3-96ba-4467-8d85-3b56f5405c96",
    "_uuid": "f086746f-c54b-4f24-851f-75be82ed5df9",
    "collapsed": false,
    "execution": {
     "iopub.execute_input": "2024-10-16T04:38:51.272654Z",
     "iopub.status.busy": "2024-10-16T04:38:51.272191Z",
     "iopub.status.idle": "2024-10-16T04:38:51.594999Z",
     "shell.execute_reply": "2024-10-16T04:38:51.593730Z",
     "shell.execute_reply.started": "2024-10-16T04:38:51.272607Z"
    },
    "jupyter": {
     "outputs_hidden": false
    }
   },
   "outputs": [],
   "source": [
    "import matplotlib.pyplot as plt\n",
    "import seaborn as sns\n",
    "\n",
    "def plot_class(df):\n",
    "    \"\"\"Plots the count of each class in the dataset.\"\"\"\n",
    "    plt.figure(figsize=(8, 6))\n",
    "    sns.countplot(data=df, x='Class', order=df['Class'].value_counts().index)\n",
    "    plt.title('Count of Each Class')\n",
    "    plt.xlabel('Class')\n",
    "    plt.ylabel('Count')\n",
    "    plt.xticks(rotation=45)\n",
    "    plt.tight_layout()\n",
    "    plt.show()"
   ]
  },
  {
   "cell_type": "code",
   "execution_count": null,
   "metadata": {
    "_cell_guid": "b767700b-b97c-4cb8-928f-e529b0d9206f",
    "_uuid": "6a2c4b34-ff18-4344-9563-23bfdc9ca4cd",
    "collapsed": false,
    "execution": {
     "iopub.execute_input": "2024-10-16T04:38:51.597254Z",
     "iopub.status.busy": "2024-10-16T04:38:51.596582Z",
     "iopub.status.idle": "2024-10-16T04:38:51.607097Z",
     "shell.execute_reply": "2024-10-16T04:38:51.605871Z",
     "shell.execute_reply.started": "2024-10-16T04:38:51.597207Z"
    },
    "jupyter": {
     "outputs_hidden": false
    }
   },
   "outputs": [],
   "source": [
    "def load_data(data_file):\n",
    "    \"\"\"Loads and preprocesses the data based on the new CSV format, removing rows with null values.\"\"\"\n",
    "    df = pd.read_csv(data_file)\n",
    "    specified_tags = ['Class A', 'Class B', 'Class C', 'Class D']\n",
    "    \n",
    "    # Remove rows with null values in 'Name of Device', 'Intended Use', or 'Class'\n",
    "    df = df.dropna(subset=['Name of Device', 'Intended Use', 'Class'])\n",
    "    \n",
    "    # Filter the specified classes\n",
    "    df = df[df['Class'].isin(specified_tags)]\n",
    "    \n",
    "    # Clean only the 'Intended Use' column\n",
    "    df['Intended Use'] = df['Intended Use'].apply(clean_text)\n",
    "    \n",
    "    # Optional: plot class distribution\n",
    "    plot_class(df)  # If you have a plotting function for visualization\n",
    "    \n",
    "    # Extract the 'Name of Device' and cleaned 'Intended Use'\n",
    "    NameOfDevice = df['Name of Device'].tolist()\n",
    "    IntendedUse = df['Intended Use'].tolist()\n",
    "    \n",
    "    # Encode labels\n",
    "    label_encoder = LabelEncoder()\n",
    "    labels = label_encoder.fit_transform(df['Class'])\n",
    "    \n",
    "    # Extract the index as a list\n",
    "    index = df.index.tolist()\n",
    "    \n",
    "    return NameOfDevice, IntendedUse, labels, index"
   ]
  },
  {
   "cell_type": "code",
   "execution_count": null,
   "metadata": {
    "_cell_guid": "17f63ba4-8e49-4a1d-a140-bbbedf42cd80",
    "_uuid": "e53beae8-e330-41f4-a199-30f2be04ee92",
    "collapsed": false,
    "execution": {
     "iopub.execute_input": "2024-10-16T04:38:51.609371Z",
     "iopub.status.busy": "2024-10-16T04:38:51.608760Z",
     "iopub.status.idle": "2024-10-16T04:38:51.637220Z",
     "shell.execute_reply": "2024-10-16T04:38:51.635902Z",
     "shell.execute_reply.started": "2024-10-16T04:38:51.609321Z"
    },
    "jupyter": {
     "outputs_hidden": false
    }
   },
   "outputs": [],
   "source": [
    "from pinecone import Pinecone\n",
    "\n",
    "pc = Pinecone(api_key=\"fb2d9eb8-000e-4f67-9017-1b81a94359cc\")\n",
    "index_name=\"mdc\""
   ]
  },
  {
   "cell_type": "code",
   "execution_count": null,
   "metadata": {
    "_cell_guid": "003cc658-5fc9-4b64-8e38-95344cd03556",
    "_uuid": "03d113ce-1bb3-4ee4-a99e-d21c9b05bd9c",
    "collapsed": false,
    "execution": {
     "iopub.execute_input": "2024-10-16T04:39:39.276170Z",
     "iopub.status.busy": "2024-10-16T04:39:39.275681Z",
     "iopub.status.idle": "2024-10-16T04:39:44.515721Z",
     "shell.execute_reply": "2024-10-16T04:39:44.514397Z",
     "shell.execute_reply.started": "2024-10-16T04:39:39.276124Z"
    },
    "jupyter": {
     "outputs_hidden": false
    }
   },
   "outputs": [],
   "source": [
    "# Load BERT model and tokenizer\n",
    "model_name = \"emilyalsentzer/Bio_ClinicalBERT\"  # Use a BERT variant from Hugging Face\n",
    "tokenizer = AutoTokenizer.from_pretrained(model_name)\n",
    "model = AutoModel.from_pretrained(model_name)"
   ]
  },
  {
   "cell_type": "code",
   "execution_count": null,
   "metadata": {
    "_cell_guid": "a44801f1-9542-4b5d-8fd5-156f79d13de7",
    "_uuid": "a7194179-5784-4b35-8ddb-5e77e98b654e",
    "collapsed": false,
    "execution": {
     "iopub.execute_input": "2024-10-16T04:39:44.519167Z",
     "iopub.status.busy": "2024-10-16T04:39:44.518323Z",
     "iopub.status.idle": "2024-10-16T04:39:45.826952Z",
     "shell.execute_reply": "2024-10-16T04:39:45.825606Z",
     "shell.execute_reply.started": "2024-10-16T04:39:44.519086Z"
    },
    "jupyter": {
     "outputs_hidden": false
    }
   },
   "outputs": [],
   "source": [
    "# Load and preprocess the dataset\n",
    "data_file = \"/kaggle/input/medical-data/mdc_data.csv\" # Replace with the correct dataset path\n",
    "NameOfDevice, IntendedUse, labels, index = load_data(data_file)"
   ]
  },
  {
   "cell_type": "code",
   "execution_count": null,
   "metadata": {
    "_cell_guid": "eac47f72-dcb3-4420-a61a-a7cac6c968d7",
    "_uuid": "1c2be98b-5fae-43f6-990d-d92f902d9b86",
    "collapsed": false,
    "execution": {
     "iopub.execute_input": "2024-10-16T04:42:04.496770Z",
     "iopub.status.busy": "2024-10-16T04:42:04.496335Z",
     "iopub.status.idle": "2024-10-16T04:42:04.504188Z",
     "shell.execute_reply": "2024-10-16T04:42:04.502704Z",
     "shell.execute_reply.started": "2024-10-16T04:42:04.496729Z"
    },
    "jupyter": {
     "outputs_hidden": false
    }
   },
   "outputs": [],
   "source": [
    "\n",
    "# Function to compute sentence embeddings\n",
    "def get_embeddings(text,tokenizer,model):\n",
    "    inputs = tokenizer(text, return_tensors=\"pt\", padding=True, truncation=True,max_length=768)\n",
    "    outputs = model(**inputs)\n",
    "    embeddings = torch.mean(outputs.last_hidden_state, dim=1).detach().numpy().squeeze()  # Mean pooling\n",
    "    return embeddings"
   ]
  },
  {
   "cell_type": "code",
   "execution_count": null,
   "metadata": {
    "_cell_guid": "6e86a74b-b7f7-49c4-abce-63c26728290d",
    "_uuid": "f801dd6c-4831-4e6f-ad42-654f323d14ee",
    "collapsed": false,
    "execution": {
     "iopub.execute_input": "2024-10-16T04:42:06.287988Z",
     "iopub.status.busy": "2024-10-16T04:42:06.287521Z",
     "iopub.status.idle": "2024-10-16T04:42:06.295536Z",
     "shell.execute_reply": "2024-10-16T04:42:06.294181Z",
     "shell.execute_reply.started": "2024-10-16T04:42:06.287943Z"
    },
    "jupyter": {
     "outputs_hidden": false
    }
   },
   "outputs": [],
   "source": [
    "# Function to split the data into train and test sets (80-20 split)\n",
    "def split_data(NameOfDevice, IntendedUse, labels, index, test_size=0.2):\n",
    "    data = pd.DataFrame({\n",
    "        'NameOfDevice': NameOfDevice,\n",
    "        'IntendedUse': IntendedUse,\n",
    "        'labels': labels,\n",
    "        'index': index\n",
    "    })\n",
    "    \n",
    "    train_data, test_data = train_test_split(data, test_size=test_size, random_state=42)\n",
    "    \n",
    "    return train_data, test_data"
   ]
  },
  {
   "cell_type": "code",
   "execution_count": null,
   "metadata": {
    "_cell_guid": "31f176d9-44ac-4ce0-94df-115660c29869",
    "_uuid": "3967b393-8aaa-4af3-865c-ffdc07cfc541",
    "collapsed": false,
    "execution": {
     "iopub.execute_input": "2024-10-16T04:42:07.368962Z",
     "iopub.status.busy": "2024-10-16T04:42:07.368476Z",
     "iopub.status.idle": "2024-10-16T04:42:07.420137Z",
     "shell.execute_reply": "2024-10-16T04:42:07.419039Z",
     "shell.execute_reply.started": "2024-10-16T04:42:07.368916Z"
    },
    "jupyter": {
     "outputs_hidden": false
    }
   },
   "outputs": [],
   "source": [
    "# Split the data into training and testing sets (80-20 split)\n",
    "train_data, test_data = split_data(NameOfDevice, IntendedUse, labels, index)"
   ]
  },
  {
   "cell_type": "code",
   "execution_count": null,
   "metadata": {
    "_cell_guid": "67986eb7-43c8-4c4c-9d26-949ecff8f0c9",
    "_uuid": "294d2da2-84d6-46d0-903d-55ec10ea0366",
    "collapsed": false,
    "execution": {
     "iopub.execute_input": "2024-10-16T04:44:27.049191Z",
     "iopub.status.busy": "2024-10-16T04:44:27.048126Z",
     "iopub.status.idle": "2024-10-16T04:44:27.058028Z",
     "shell.execute_reply": "2024-10-16T04:44:27.056787Z",
     "shell.execute_reply.started": "2024-10-16T04:44:27.049088Z"
    },
    "jupyter": {
     "outputs_hidden": false
    }
   },
   "outputs": [],
   "source": [
    "\n",
    "# Store embeddings to Pinecone with progress tracking\n",
    "def store_embeddings_to_pinecone(index_name, train_data, tokenizer, model):\n",
    "    index = pc.Index(index_name)  # Initialize the Pinecone index\n",
    "    \n",
    "    # Using tqdm to show a progress bar while iterating through train_data\n",
    "    for i, row in tqdm(train_data.iterrows(), total=len(train_data), desc=\"Storing embeddings\"):\n",
    "        text = row['NameOfDevice'] + ' ' + row['IntendedUse']\n",
    "        embedding = get_embeddings(text, tokenizer, model)\n",
    "        \n",
    "        # Metadata containing the label, device name, and index\n",
    "        metadata = {\n",
    "            'label': row['labels'],\n",
    "            'device_name': row['NameOfDevice'],\n",
    "            'index': int(row['index'])  # Ensure index is an integer\n",
    "        }\n",
    "        \n",
    "        # Upsert embeddings with metadata into the Pinecone index\n",
    "        index.upsert(vectors=[(str(i), embedding, metadata)])\n",
    "\n",
    "    print(\"All embeddings stored successfully.\")"
   ]
  },
  {
   "cell_type": "code",
   "execution_count": null,
   "metadata": {
    "_cell_guid": "ac54137f-387b-4243-8e8c-41d360b5f06e",
    "_uuid": "d44aa9f8-1c56-44b5-b1a3-48be45025894",
    "collapsed": false,
    "execution": {
     "iopub.execute_input": "2024-10-16T04:44:27.489004Z",
     "iopub.status.busy": "2024-10-16T04:44:27.487993Z",
     "iopub.status.idle": "2024-10-16T04:44:33.550531Z",
     "shell.execute_reply": "2024-10-16T04:44:33.548854Z",
     "shell.execute_reply.started": "2024-10-16T04:44:27.488950Z"
    },
    "jupyter": {
     "outputs_hidden": false
    }
   },
   "outputs": [],
   "source": [
    "# Store embeddings and metadata to Pinecone\n",
    "store_embeddings_to_pinecone(index_name, train_data, tokenizer, model)"
   ]
  },
  {
   "cell_type": "code",
   "execution_count": null,
   "metadata": {
    "_cell_guid": "bd1f307e-8718-4c4a-9961-c09fb7b1abf8",
    "_uuid": "57729c74-5087-49ba-9e58-c1e4062cf5c1",
    "collapsed": false,
    "execution": {
     "iopub.execute_input": "2024-10-16T04:44:36.037518Z",
     "iopub.status.busy": "2024-10-16T04:44:36.037033Z",
     "iopub.status.idle": "2024-10-16T04:44:36.049339Z",
     "shell.execute_reply": "2024-10-16T04:44:36.048184Z",
     "shell.execute_reply.started": "2024-10-16T04:44:36.037474Z"
    },
    "jupyter": {
     "outputs_hidden": false
    }
   },
   "outputs": [],
   "source": [
    "# Function to predict the label using majority pooling\n",
    "def predict_label(test_text, index, tokenizer, model, top_k=5):\n",
    "    # Get the embedding for the input test_text\n",
    "    embedding = get_embeddings(test_text, tokenizer, model)\n",
    "    \n",
    "    # Query Pinecone for the top K similar embeddings\n",
    "    query_result = index.query(vector=embedding.tolist(), top_k=top_k, include_metadata=True)\n",
    "    \n",
    "    # Retrieve labels of nearest neighbors\n",
    "    labels = [match['metadata']['label'] for match in query_result['matches']]\n",
    "    \n",
    "    # Perform majority pooling to get the most common label\n",
    "    most_common_label = Counter(labels).most_common(1)[0][0]\n",
    "    \n",
    "    return most_common_label\n",
    "\n",
    "# Test the model on the test dataset\n",
    "def test_model(test_data, index, tokenizer, model, top_k=5):\n",
    "    correct = 0\n",
    "    test_texts = test_data['NameOfDevice'] + ' ' + test_data['IntendedUse']\n",
    "    test_labels = test_data['labels']\n",
    "    \n",
    "    # Loop through the test dataset and make predictions\n",
    "    for text, label in tqdm(zip(test_texts, test_labels), total=len(test_texts)):\n",
    "        predicted_label = predict_label(text, index, tokenizer, model, top_k)\n",
    "        if predicted_label == str(label):  # Convert label to string to ensure compatibility\n",
    "            correct += 1\n",
    "\n",
    "    # Calculate accuracy\n",
    "    accuracy = correct / len(test_texts)\n",
    "    print(f\"Accuracy: {accuracy * 100:.2f}%\")"
   ]
  },
  {
   "cell_type": "code",
   "execution_count": null,
   "metadata": {
    "_cell_guid": "3e7d4cea-6771-4bcd-9a3c-8103a1c363ec",
    "_uuid": "1be55aca-4a39-4623-b092-25ed50a5e0b6",
    "collapsed": false,
    "execution": {
     "iopub.execute_input": "2024-10-16T04:44:39.149618Z",
     "iopub.status.busy": "2024-10-16T04:44:39.149105Z",
     "iopub.status.idle": "2024-10-16T04:44:52.792074Z",
     "shell.execute_reply": "2024-10-16T04:44:52.790020Z",
     "shell.execute_reply.started": "2024-10-16T04:44:39.149574Z"
    },
    "jupyter": {
     "outputs_hidden": false
    }
   },
   "outputs": [],
   "source": [
    "index = pc.Index(index_name)\n",
    "test_model(test_data, index, tokenizer, model)"
   ]
  },
  {
   "cell_type": "code",
   "execution_count": null,
   "metadata": {
    "_cell_guid": "42281902-15d5-453a-8e19-7be9a3aebf58",
    "_uuid": "0d76a361-a46b-4e61-b914-6f5cc7fdd6a7",
    "collapsed": false,
    "jupyter": {
     "outputs_hidden": false
    }
   },
   "outputs": [],
   "source": []
  }
 ],
 "metadata": {
  "kaggle": {
   "accelerator": "none",
   "dataSources": [
    {
     "datasetId": 5878720,
     "sourceId": 9629840,
     "sourceType": "datasetVersion"
    }
   ],
   "dockerImageVersionId": 30786,
   "isGpuEnabled": false,
   "isInternetEnabled": true,
   "language": "python",
   "sourceType": "notebook"
  },
  "kernelspec": {
   "display_name": "Python 3 (ipykernel)",
   "language": "python",
   "name": "python3"
  },
  "language_info": {
   "codemirror_mode": {
    "name": "ipython",
    "version": 3
   },
   "file_extension": ".py",
   "mimetype": "text/x-python",
   "name": "python",
   "nbconvert_exporter": "python",
   "pygments_lexer": "ipython3",
   "version": "3.12.4"
  }
 },
 "nbformat": 4,
 "nbformat_minor": 4
}
